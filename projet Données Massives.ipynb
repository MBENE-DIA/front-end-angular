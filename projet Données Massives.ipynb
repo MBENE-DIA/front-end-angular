{
  "nbformat": 4,
  "nbformat_minor": 0,
  "metadata": {
    "colab": {
      "name": "Untitled6.ipynb",
      "provenance": [],
      "collapsed_sections": [],
      "authorship_tag": "ABX9TyPLY6HKskTpMkl95qIjpUV/",
      "include_colab_link": true
    },
    "kernelspec": {
      "name": "python3",
      "display_name": "Python 3"
    },
    "language_info": {
      "name": "python"
    }
  },
  "cells": [
    {
      "cell_type": "markdown",
      "metadata": {
        "id": "view-in-github",
        "colab_type": "text"
      },
      "source": [
        "<a href=\"https://colab.research.google.com/github/MBENE-DIA/front-end-angular/blob/main/projet%20Donn%C3%A9es%20Massives.ipynb\" target=\"_parent\"><img src=\"https://colab.research.google.com/assets/colab-badge.svg\" alt=\"Open In Colab\"/></a>"
      ]
    },
    {
      "cell_type": "markdown",
      "source": [
        "# Projet Traitement de données Massives "
      ],
      "metadata": {
        "id": "QdfyOm7Iwc6i"
      }
    },
    {
      "cell_type": "markdown",
      "source": [
        "**Importations les bibliothèques** "
      ],
      "metadata": {
        "id": "lRjbUjzIa4YR"
      }
    },
    {
      "cell_type": "code",
      "execution_count": 1,
      "metadata": {
        "id": "0cXZ5OflFtZW"
      },
      "outputs": [],
      "source": [
        "#Ici on fait importations des bibliothèques \n",
        "import pandas as pd \n",
        "from datetime import datetime, timedelta\n",
        "import matplotlib \n",
        "import matplotlib.pyplot as plt"
      ]
    },
    {
      "cell_type": "markdown",
      "source": [
        "**Télécharger le fichier SENGO pour le traitement des données**"
      ],
      "metadata": {
        "id": "RL9BkFzKcBRQ"
      }
    },
    {
      "cell_type": "code",
      "source": [
        "from google.colab import files\n",
        "import io\n",
        "sengofiles = files.upload()"
      ],
      "metadata": {
        "colab": {
          "resources": {
            "http://localhost:8080/nbextensions/google.colab/files.js": {
              "data": "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",
              "ok": true,
              "headers": [
                [
                  "content-type",
                  "application/javascript"
                ]
              ],
              "status": 200,
              "status_text": ""
            }
          },
          "base_uri": "https://localhost:8080/",
          "height": 74
        },
        "id": "WbHM_4S5F4U2",
        "outputId": "4d1eab80-b06f-4b01-d3ed-ac4ed448127f"
      },
      "execution_count": 2,
      "outputs": [
        {
          "output_type": "display_data",
          "data": {
            "text/plain": [
              "<IPython.core.display.HTML object>"
            ],
            "text/html": [
              "\n",
              "     <input type=\"file\" id=\"files-0db13526-e935-4dc2-a331-477be53a3001\" name=\"files[]\" multiple disabled\n",
              "        style=\"border:none\" />\n",
              "     <output id=\"result-0db13526-e935-4dc2-a331-477be53a3001\">\n",
              "      Upload widget is only available when the cell has been executed in the\n",
              "      current browser session. Please rerun this cell to enable.\n",
              "      </output>\n",
              "      <script src=\"/nbextensions/google.colab/files.js\"></script> "
            ]
          },
          "metadata": {}
        },
        {
          "output_type": "stream",
          "name": "stdout",
          "text": [
            "Saving SENGO.csv to SENGO.csv\n"
          ]
        }
      ]
    },
    {
      "cell_type": "markdown",
      "source": [
        "**Lecture et Affichage du fichier SENGO.CVS**"
      ],
      "metadata": {
        "id": "F61KQDf1cRBV"
      }
    },
    {
      "cell_type": "code",
      "source": [
        "#Lire le fichier csv et l'afficher avec la variable sengo \n",
        "sengo = pd.read_csv(io.BytesIO(sengofiles['SENGO.csv']))\n",
        "print(sengo)\n",
        "\n"
      ],
      "metadata": {
        "colab": {
          "base_uri": "https://localhost:8080/",
          "height": 0
        },
        "id": "yEoQ8DiKGAzX",
        "outputId": "b20ced91-0faf-4186-c20b-0d588cfc35f4"
      },
      "execution_count": 3,
      "outputs": [
        {
          "output_type": "stream",
          "name": "stdout",
          "text": [
            "             AN   TAUX\n",
            "0    1960-01-01    5.2\n",
            "1    1960-02-01    4.8\n",
            "2    1960-03-01    5.4\n",
            "3    1960-04-01    5.2\n",
            "4    1960-05-01    5.1\n",
            "..          ...    ...\n",
            "695  2017-12-01    4.1\n",
            "696  2018-01-01    4.1\n",
            "697  2018-01-01    4.1\n",
            "698  2019-01-01    4.1\n",
            "699  2021-01-01    4.1\n",
            "\n",
            "[700 rows x 2 columns]\n"
          ]
        }
      ]
    },
    {
      "cell_type": "markdown",
      "source": [
        "**Convertir les années en une année entière avec to_datetime**"
      ],
      "metadata": {
        "id": "prYNc8cpc-qR"
      }
    },
    {
      "cell_type": "code",
      "source": [
        "#Conversion de la colonne AN en valeurs Entière\n",
        "sengo['AN']= pd.to_datetime(sengo['AN']).dt.year\n",
        "print(sengo)"
      ],
      "metadata": {
        "colab": {
          "base_uri": "https://localhost:8080/",
          "height": 0
        },
        "id": "iKxbQZDycr9D",
        "outputId": "d721a482-9b01-49ca-db41-bb8b20cc78ce"
      },
      "execution_count": 4,
      "outputs": [
        {
          "output_type": "stream",
          "name": "stdout",
          "text": [
            "       AN   TAUX\n",
            "0    1960    5.2\n",
            "1    1960    4.8\n",
            "2    1960    5.4\n",
            "3    1960    5.2\n",
            "4    1960    5.1\n",
            "..    ...    ...\n",
            "695  2017    4.1\n",
            "696  2018    4.1\n",
            "697  2018    4.1\n",
            "698  2019    4.1\n",
            "699  2021    4.1\n",
            "\n",
            "[700 rows x 2 columns]\n"
          ]
        }
      ]
    },
    {
      "cell_type": "markdown",
      "source": [
        "***Afficher les 12 premières valeurs correspondant à une année entière.***\n"
      ],
      "metadata": {
        "id": "n2845ppGhqyk"
      }
    },
    {
      "cell_type": "code",
      "source": [
        "#Affichage des 12 premières valeurs pour l'année 1962\n",
        "res12 = sengo[sengo.AN == 1962]\n",
        "res12.head(12)\n"
      ],
      "metadata": {
        "id": "LXpi7CNyhg-g",
        "colab": {
          "base_uri": "https://localhost:8080/",
          "height": 425
        },
        "outputId": "f53cb6a3-26b0-4546-da6c-50a43b54200a"
      },
      "execution_count": 5,
      "outputs": [
        {
          "output_type": "execute_result",
          "data": {
            "text/plain": [
              "      AN   TAUX\n",
              "24  1962    5.8\n",
              "25  1962    5.5\n",
              "26  1962    5.6\n",
              "27  1962    5.6\n",
              "28  1962    5.5\n",
              "29  1962    5.5\n",
              "30  1962    5.4\n",
              "31  1962    5.7\n",
              "32  1962    5.6\n",
              "33  1962    5.4\n",
              "34  1962    5.7\n",
              "35  1962    5.5"
            ],
            "text/html": [
              "\n",
              "  <div id=\"df-6d2c4bc3-e423-4298-aec0-e2c6f0bed1cd\">\n",
              "    <div class=\"colab-df-container\">\n",
              "      <div>\n",
              "<style scoped>\n",
              "    .dataframe tbody tr th:only-of-type {\n",
              "        vertical-align: middle;\n",
              "    }\n",
              "\n",
              "    .dataframe tbody tr th {\n",
              "        vertical-align: top;\n",
              "    }\n",
              "\n",
              "    .dataframe thead th {\n",
              "        text-align: right;\n",
              "    }\n",
              "</style>\n",
              "<table border=\"1\" class=\"dataframe\">\n",
              "  <thead>\n",
              "    <tr style=\"text-align: right;\">\n",
              "      <th></th>\n",
              "      <th>AN</th>\n",
              "      <th>TAUX</th>\n",
              "    </tr>\n",
              "  </thead>\n",
              "  <tbody>\n",
              "    <tr>\n",
              "      <th>24</th>\n",
              "      <td>1962</td>\n",
              "      <td>5.8</td>\n",
              "    </tr>\n",
              "    <tr>\n",
              "      <th>25</th>\n",
              "      <td>1962</td>\n",
              "      <td>5.5</td>\n",
              "    </tr>\n",
              "    <tr>\n",
              "      <th>26</th>\n",
              "      <td>1962</td>\n",
              "      <td>5.6</td>\n",
              "    </tr>\n",
              "    <tr>\n",
              "      <th>27</th>\n",
              "      <td>1962</td>\n",
              "      <td>5.6</td>\n",
              "    </tr>\n",
              "    <tr>\n",
              "      <th>28</th>\n",
              "      <td>1962</td>\n",
              "      <td>5.5</td>\n",
              "    </tr>\n",
              "    <tr>\n",
              "      <th>29</th>\n",
              "      <td>1962</td>\n",
              "      <td>5.5</td>\n",
              "    </tr>\n",
              "    <tr>\n",
              "      <th>30</th>\n",
              "      <td>1962</td>\n",
              "      <td>5.4</td>\n",
              "    </tr>\n",
              "    <tr>\n",
              "      <th>31</th>\n",
              "      <td>1962</td>\n",
              "      <td>5.7</td>\n",
              "    </tr>\n",
              "    <tr>\n",
              "      <th>32</th>\n",
              "      <td>1962</td>\n",
              "      <td>5.6</td>\n",
              "    </tr>\n",
              "    <tr>\n",
              "      <th>33</th>\n",
              "      <td>1962</td>\n",
              "      <td>5.4</td>\n",
              "    </tr>\n",
              "    <tr>\n",
              "      <th>34</th>\n",
              "      <td>1962</td>\n",
              "      <td>5.7</td>\n",
              "    </tr>\n",
              "    <tr>\n",
              "      <th>35</th>\n",
              "      <td>1962</td>\n",
              "      <td>5.5</td>\n",
              "    </tr>\n",
              "  </tbody>\n",
              "</table>\n",
              "</div>\n",
              "      <button class=\"colab-df-convert\" onclick=\"convertToInteractive('df-6d2c4bc3-e423-4298-aec0-e2c6f0bed1cd')\"\n",
              "              title=\"Convert this dataframe to an interactive table.\"\n",
              "              style=\"display:none;\">\n",
              "        \n",
              "  <svg xmlns=\"http://www.w3.org/2000/svg\" height=\"24px\"viewBox=\"0 0 24 24\"\n",
              "       width=\"24px\">\n",
              "    <path d=\"M0 0h24v24H0V0z\" fill=\"none\"/>\n",
              "    <path d=\"M18.56 5.44l.94 2.06.94-2.06 2.06-.94-2.06-.94-.94-2.06-.94 2.06-2.06.94zm-11 1L8.5 8.5l.94-2.06 2.06-.94-2.06-.94L8.5 2.5l-.94 2.06-2.06.94zm10 10l.94 2.06.94-2.06 2.06-.94-2.06-.94-.94-2.06-.94 2.06-2.06.94z\"/><path d=\"M17.41 7.96l-1.37-1.37c-.4-.4-.92-.59-1.43-.59-.52 0-1.04.2-1.43.59L10.3 9.45l-7.72 7.72c-.78.78-.78 2.05 0 2.83L4 21.41c.39.39.9.59 1.41.59.51 0 1.02-.2 1.41-.59l7.78-7.78 2.81-2.81c.8-.78.8-2.07 0-2.86zM5.41 20L4 18.59l7.72-7.72 1.47 1.35L5.41 20z\"/>\n",
              "  </svg>\n",
              "      </button>\n",
              "      \n",
              "  <style>\n",
              "    .colab-df-container {\n",
              "      display:flex;\n",
              "      flex-wrap:wrap;\n",
              "      gap: 12px;\n",
              "    }\n",
              "\n",
              "    .colab-df-convert {\n",
              "      background-color: #E8F0FE;\n",
              "      border: none;\n",
              "      border-radius: 50%;\n",
              "      cursor: pointer;\n",
              "      display: none;\n",
              "      fill: #1967D2;\n",
              "      height: 32px;\n",
              "      padding: 0 0 0 0;\n",
              "      width: 32px;\n",
              "    }\n",
              "\n",
              "    .colab-df-convert:hover {\n",
              "      background-color: #E2EBFA;\n",
              "      box-shadow: 0px 1px 2px rgba(60, 64, 67, 0.3), 0px 1px 3px 1px rgba(60, 64, 67, 0.15);\n",
              "      fill: #174EA6;\n",
              "    }\n",
              "\n",
              "    [theme=dark] .colab-df-convert {\n",
              "      background-color: #3B4455;\n",
              "      fill: #D2E3FC;\n",
              "    }\n",
              "\n",
              "    [theme=dark] .colab-df-convert:hover {\n",
              "      background-color: #434B5C;\n",
              "      box-shadow: 0px 1px 3px 1px rgba(0, 0, 0, 0.15);\n",
              "      filter: drop-shadow(0px 1px 2px rgba(0, 0, 0, 0.3));\n",
              "      fill: #FFFFFF;\n",
              "    }\n",
              "  </style>\n",
              "\n",
              "      <script>\n",
              "        const buttonEl =\n",
              "          document.querySelector('#df-6d2c4bc3-e423-4298-aec0-e2c6f0bed1cd button.colab-df-convert');\n",
              "        buttonEl.style.display =\n",
              "          google.colab.kernel.accessAllowed ? 'block' : 'none';\n",
              "\n",
              "        async function convertToInteractive(key) {\n",
              "          const element = document.querySelector('#df-6d2c4bc3-e423-4298-aec0-e2c6f0bed1cd');\n",
              "          const dataTable =\n",
              "            await google.colab.kernel.invokeFunction('convertToInteractive',\n",
              "                                                     [key], {});\n",
              "          if (!dataTable) return;\n",
              "\n",
              "          const docLinkHtml = 'Like what you see? Visit the ' +\n",
              "            '<a target=\"_blank\" href=https://colab.research.google.com/notebooks/data_table.ipynb>data table notebook</a>'\n",
              "            + ' to learn more about interactive tables.';\n",
              "          element.innerHTML = '';\n",
              "          dataTable['output_type'] = 'display_data';\n",
              "          await google.colab.output.renderOutput(dataTable, element);\n",
              "          const docLink = document.createElement('div');\n",
              "          docLink.innerHTML = docLinkHtml;\n",
              "          element.appendChild(docLink);\n",
              "        }\n",
              "      </script>\n",
              "    </div>\n",
              "  </div>\n",
              "  "
            ]
          },
          "metadata": {},
          "execution_count": 5
        }
      ]
    },
    {
      "cell_type": "markdown",
      "source": [
        "**Affichage d'un graphique vide**"
      ],
      "metadata": {
        "id": "v9VLw5H9hE-Z"
      }
    },
    {
      "cell_type": "code",
      "source": [
        "#Afficher un graphique vide\n",
        "plt.plot()\n"
      ],
      "metadata": {
        "colab": {
          "base_uri": "https://localhost:8080/",
          "height": 283
        },
        "id": "MlqNtfxYQP_3",
        "outputId": "a4728ef3-eced-4c74-bbd5-c9a7dbcee5fe"
      },
      "execution_count": 6,
      "outputs": [
        {
          "output_type": "execute_result",
          "data": {
            "text/plain": [
              "[]"
            ]
          },
          "metadata": {},
          "execution_count": 6
        },
        {
          "output_type": "display_data",
          "data": {
            "text/plain": [
              "<Figure size 432x288 with 1 Axes>"
            ],
            "image/png": "[encoded data removed]"
          },
          "metadata": {
            "needs_background": "light"
          }
        }
      ]
    },
    {
      "cell_type": "markdown",
      "source": [
        "**3- Générer un graphique linéaire qui permet de visualiser les taux de chômage de 1960**\n"
      ],
      "metadata": {
        "id": "0tRmwzbplI6p"
      }
    },
    {
      "cell_type": "code",
      "source": [
        "# Récuperer les données de 1960 et stocker le resultat dans result1960\n",
        "result1960 = sengo[sengo.AN == 1960]\n",
        "print(result1960)"
      ],
      "metadata": {
        "colab": {
          "base_uri": "https://localhost:8080/",
          "height": 0
        },
        "id": "69ZMGMpZHjpj",
        "outputId": "70f6a50f-58e7-480d-8ed8-3cc5f70b577b"
      },
      "execution_count": 7,
      "outputs": [
        {
          "output_type": "stream",
          "name": "stdout",
          "text": [
            "      AN   TAUX\n",
            "0   1960    5.2\n",
            "1   1960    4.8\n",
            "2   1960    5.4\n",
            "3   1960    5.2\n",
            "4   1960    5.1\n",
            "5   1960    5.4\n",
            "6   1960    5.5\n",
            "7   1960    5.6\n",
            "8   1960    5.5\n",
            "9   1960    6.1\n",
            "10  1960    6.1\n",
            "11  1960    6.6\n"
          ]
        }
      ]
    },
    {
      "cell_type": "code",
      "source": [
        "# Recupérer les 10 premières valeurs de la colonne ‘AN’  pour l'année 1960 et le mettre dans resultAN\n",
        "listeAN10 = sengo['AN']\n",
        "resultAN = listeAN10.head(10)\n",
        "print(resultAN)"
      ],
      "metadata": {
        "colab": {
          "base_uri": "https://localhost:8080/",
          "height": 0
        },
        "id": "LzMlmKPSQo_n",
        "outputId": "bf25ce84-e2f8-4adb-c6f3-62b5faf357a6"
      },
      "execution_count": 8,
      "outputs": [
        {
          "output_type": "stream",
          "name": "stdout",
          "text": [
            "0    1960\n",
            "1    1960\n",
            "2    1960\n",
            "3    1960\n",
            "4    1960\n",
            "5    1960\n",
            "6    1960\n",
            "7    1960\n",
            "8    1960\n",
            "9    1960\n",
            "Name: AN, dtype: int64\n"
          ]
        }
      ]
    },
    {
      "cell_type": "code",
      "source": [
        " #Recupérer les 10 premières valeurs de la colonne ‘TAUX’  pour l'année 1960 et le mettre dans resultT\n",
        "listeTA = sengo[' TAUX']\n",
        "resultT = listeTA.head(10)\n",
        "print(resultT)"
      ],
      "metadata": {
        "colab": {
          "base_uri": "https://localhost:8080/",
          "height": 0
        },
        "id": "h6-IBKdIR92C",
        "outputId": "ddbaec6f-e248-4860-b210-fbe74bffc47a"
      },
      "execution_count": 9,
      "outputs": [
        {
          "output_type": "stream",
          "name": "stdout",
          "text": [
            "0    5.2\n",
            "1    4.8\n",
            "2    5.4\n",
            "3    5.2\n",
            "4    5.1\n",
            "5    5.4\n",
            "6    5.5\n",
            "7    5.6\n",
            "8    5.5\n",
            "9    6.1\n",
            "Name:  TAUX, dtype: float64\n"
          ]
        }
      ]
    },
    {
      "cell_type": "markdown",
      "source": [
        "**Graphique linéaire pour l'année 1960**"
      ],
      "metadata": {
        "id": "vvhIMyq-ms6f"
      }
    },
    {
      "cell_type": "code",
      "source": [
        "plt.plot(resultAN,resultT)\n",
        "plt.title('Taux de Chomage 1960')\n",
        "plt.xlabel('AN')\n",
        "plt.ylabel('Taux')\n",
        "plt.show()"
      ],
      "metadata": {
        "colab": {
          "base_uri": "https://localhost:8080/",
          "height": 295
        },
        "id": "lU1YGQi8RTtp",
        "outputId": "df54b181-5375-454d-d410-1d4cb583a006"
      },
      "execution_count": 10,
      "outputs": [
        {
          "output_type": "display_data",
          "data": {
            "text/plain": [
              "<Figure size 432x288 with 1 Axes>"
            ],
            "image/png": "[encoded data removed]"
          },
          "metadata": {
            "needs_background": "light"
          }
        }
      ]
    },
    {
      "cell_type": "code",
      "source": [
        "#Créer une rotation de 90 pour l'année 1960\n",
        "plt.plot(resultAN,resultT)\n",
        "plt.title('Taux de Chomage 1960')\n",
        "plt.xlabel('AN')\n",
        "plt.ylabel('Taux')\n",
        "plt.xticks(resultAN,rotation=90)\n",
        "plt.show()"
      ],
      "metadata": {
        "colab": {
          "base_uri": "https://localhost:8080/",
          "height": 311
        },
        "id": "RubABwYaWBcM",
        "outputId": "33d7c159-1e14-4588-d763-ddbe2a775174"
      },
      "execution_count": 12,
      "outputs": [
        {
          "output_type": "display_data",
          "data": {
            "text/plain": [
              "<Figure size 432x288 with 1 Axes>"
            ],
            "image/png": "[encoded data removed]"
          },
          "metadata": {
            "needs_background": "light"
          }
        }
      ]
    },
    {
      "cell_type": "code",
      "source": [
        "#Renommer le graphique en ajoutant les intitulés pour  X et Y donner un titre\n",
        "plt.plot(resultAN,resultT)\n",
        "plt.title('Evolution du taux de chômage en 1960 au SENGO')\n",
        "plt.xlabel('Mois')\n",
        "plt.ylabel('Taux de chômage %')\n",
        "plt.show()"
      ],
      "metadata": {
        "colab": {
          "base_uri": "https://localhost:8080/",
          "height": 295
        },
        "id": "dB0nA0kl-PCS",
        "outputId": "96091130-6bb8-4ba2-f39b-30e947c8aea5"
      },
      "execution_count": 11,
      "outputs": [
        {
          "output_type": "display_data",
          "data": {
            "text/plain": [
              "<Figure size 432x288 with 1 Axes>"
            ],
            "image/png": "[encoded data removed]"
          },
          "metadata": {
            "needs_background": "light"
          }
        }
      ]
    },
    {
      "cell_type": "markdown",
      "source": [
        "**Création de deux figures sans aucunes données**"
      ],
      "metadata": {
        "id": "vLcHYr4in59Y"
      }
    },
    {
      "cell_type": "code",
      "source": [
        "fig = plt.figure()\n",
        "fig.add_subplot()"
      ],
      "metadata": {
        "colab": {
          "base_uri": "https://localhost:8080/",
          "height": 287
        },
        "id": "hxO1n9swAEdH",
        "outputId": "6c36984c-b70b-4713-ac10-99a5d5a95081"
      },
      "execution_count": 12,
      "outputs": [
        {
          "output_type": "execute_result",
          "data": {
            "text/plain": [
              "<matplotlib.axes._subplots.AxesSubplot at 0x7f8c80b429d0>"
            ]
          },
          "metadata": {},
          "execution_count": 12
        },
        {
          "output_type": "display_data",
          "data": {
            "text/plain": [
              "<Figure size 432x288 with 1 Axes>"
            ],
            "image/png": "[encoded data removed]"
          },
          "metadata": {
            "needs_background": "light"
          }
        }
      ]
    },
    {
      "cell_type": "markdown",
      "source": [
        "**Création de 6 figures sur 2 lignes et 3 colonnes**"
      ],
      "metadata": {
        "id": "tqL1gd-mo84P"
      }
    },
    {
      "cell_type": "code",
      "source": [
        "lignes, colonnes = 2, 3\n",
        "fig, ax = plt.subplots(lignes, colonnes,\n",
        "                       sharex='col', \n",
        "                       sharey='row')\n",
        "\n",
        "for row in range(lignes):\n",
        "    for col in range(colonnes):\n",
        "        ax[row, col].text(0.5, 0.5, \n",
        "                          str((row, col)),\n",
        "                          color=\"green\",\n",
        "                          fontsize=18, \n",
        "                          ha='center')\n",
        "plt.show()"
      ],
      "metadata": {
        "colab": {
          "base_uri": "https://localhost:8080/",
          "height": 269
        },
        "id": "cJMBl_H2Af5D",
        "outputId": "fdf26bf9-2e31-4d07-93f6-e50e388b0d2f"
      },
      "execution_count": 13,
      "outputs": [
        {
          "output_type": "display_data",
          "data": {
            "text/plain": [
              "<Figure size 432x288 with 6 Axes>"
            ],
            "image/png": "[encoded data removed]"
          },
          "metadata": {
            "needs_background": "light"
          }
        }
      ]
    },
    {
      "cell_type": "markdown",
      "source": [
        "Ajoutons les données "
      ],
      "metadata": {
        "id": "_q0dhje9MKjV"
      }
    },
    {
      "cell_type": "code",
      "source": [
        "# 1 generer deux courbes linéaires dans une grille de 2 ligne et une colonne\n",
        "lignes, colonnes = 2, 1\n",
        "fig, ax = plt.subplots(lignes, colonnes,\n",
        ")\n",
        "plt.show()\n"
      ],
      "metadata": {
        "colab": {
          "base_uri": "https://localhost:8080/",
          "height": 269
        },
        "id": "LKt1sgXi8imM",
        "outputId": "cc0af0e7-ab71-4867-972e-369e0aa58122"
      },
      "execution_count": 14,
      "outputs": [
        {
          "output_type": "display_data",
          "data": {
            "text/plain": [
              "<Figure size 432x288 with 2 Axes>"
            ],
            "image/png": "[encoded data removed]"
          },
          "metadata": {
            "needs_background": "light"
          }
        }
      ]
    },
    {
      "cell_type": "code",
      "source": [
        "#Les 12 premières valeurs de la colonne AN\n",
        "firts12A= sengo['AN']\n",
        "result12A = firts12A.head(12)\n",
        "print(result12A)"
      ],
      "metadata": {
        "colab": {
          "base_uri": "https://localhost:8080/",
          "height": 0
        },
        "id": "QvPRMw2vGCgW",
        "outputId": "0ae2b5d4-b2ea-4262-c7ef-730c21ab6706"
      },
      "execution_count": 15,
      "outputs": [
        {
          "output_type": "stream",
          "name": "stdout",
          "text": [
            "0     1960\n",
            "1     1960\n",
            "2     1960\n",
            "3     1960\n",
            "4     1960\n",
            "5     1960\n",
            "6     1960\n",
            "7     1960\n",
            "8     1960\n",
            "9     1960\n",
            "10    1960\n",
            "11    1960\n",
            "Name: AN, dtype: int64\n"
          ]
        }
      ]
    },
    {
      "cell_type": "code",
      "source": [
        "#Les 12 premières valeurs de la colonne TAUX\n",
        "firts12T = sengo[' TAUX']\n",
        "result12T = firts12T.head(12)\n",
        "print(result12T)"
      ],
      "metadata": {
        "colab": {
          "base_uri": "https://localhost:8080/",
          "height": 0
        },
        "id": "wh3Pt7U9GWX4",
        "outputId": "f9cb8d76-f4eb-423a-863d-237ef51850ee"
      },
      "execution_count": 16,
      "outputs": [
        {
          "output_type": "stream",
          "name": "stdout",
          "text": [
            "0     5.2\n",
            "1     4.8\n",
            "2     5.4\n",
            "3     5.2\n",
            "4     5.1\n",
            "5     5.4\n",
            "6     5.5\n",
            "7     5.6\n",
            "8     5.5\n",
            "9     6.1\n",
            "10    6.1\n",
            "11    6.6\n",
            "Name:  TAUX, dtype: float64\n"
          ]
        }
      ]
    },
    {
      "cell_type": "code",
      "source": [
        "#dans le sous-graphique du haut, traçons les données de 1960\n",
        "fig, (ax1, ax2) = plt.subplots(2)\n",
        "fig.suptitle('Taux de chomage')\n",
        "ax1.plot(result12A,result12T)"
      ],
      "metadata": {
        "colab": {
          "base_uri": "https://localhost:8080/",
          "height": 312
        },
        "id": "1WuDlWdwGt4A",
        "outputId": "aa6f740a-b6fb-48fa-e2ba-13c7fb28f5cb"
      },
      "execution_count": 17,
      "outputs": [
        {
          "output_type": "execute_result",
          "data": {
            "text/plain": [
              "[<matplotlib.lines.Line2D at 0x7f8c80799a50>]"
            ]
          },
          "metadata": {},
          "execution_count": 17
        },
        {
          "output_type": "display_data",
          "data": {
            "text/plain": [
              "<Figure size 432x288 with 2 Axes>"
            ],
            "image/png": "[encoded data removed]"
          },
          "metadata": {
            "needs_background": "light"
          }
        }
      ]
    },
    {
      "cell_type": "markdown",
      "source": [
        "**Récupération les données de 1961**"
      ],
      "metadata": {
        "id": "OlsYYbLEwOah"
      }
    },
    {
      "cell_type": "code",
      "source": [
        "#Récuperer les données de 1961\n",
        "result1961 = sengo[sengo.AN == 1961]\n",
        "result61A = result1961.loc[10:22]\n",
        "print(result61A)"
      ],
      "metadata": {
        "colab": {
          "base_uri": "https://localhost:8080/",
          "height": 0
        },
        "id": "6VkWjz43HB4s",
        "outputId": "a5803810-2754-4e20-b399-201d22b1ca5d"
      },
      "execution_count": 18,
      "outputs": [
        {
          "output_type": "stream",
          "name": "stdout",
          "text": [
            "      AN   TAUX\n",
            "12  1961    6.6\n",
            "13  1961    6.9\n",
            "14  1961    6.9\n",
            "15  1961    7.0\n",
            "16  1961    7.1\n",
            "17  1961    6.9\n",
            "18  1961    7.0\n",
            "19  1961    6.6\n",
            "20  1961    6.7\n",
            "21  1961    6.5\n",
            "22  1961    6.1\n"
          ]
        }
      ]
    },
    {
      "cell_type": "code",
      "source": [
        "#Récuperer les 10 premieres valeurs de 1961 de la colonne AN\n",
        "valeurX1961 = result1961['AN']\n",
        "valX = valeurX1961.head(10)\n",
        "print(valX)"
      ],
      "metadata": {
        "colab": {
          "base_uri": "https://localhost:8080/",
          "height": 0
        },
        "id": "P0gudma5IT38",
        "outputId": "1f85d3a5-f151-46ae-d955-468b163d3f64"
      },
      "execution_count": 19,
      "outputs": [
        {
          "output_type": "stream",
          "name": "stdout",
          "text": [
            "12    1961\n",
            "13    1961\n",
            "14    1961\n",
            "15    1961\n",
            "16    1961\n",
            "17    1961\n",
            "18    1961\n",
            "19    1961\n",
            "20    1961\n",
            "21    1961\n",
            "Name: AN, dtype: int64\n"
          ]
        }
      ]
    },
    {
      "cell_type": "code",
      "source": [
        "#Récuperer les 10 premieres valeurs de 1961 de la colonne TAUX\n",
        "valeurY = result1961[' TAUX']\n",
        "valY = valeurY.head(10)\n",
        "print(valY)"
      ],
      "metadata": {
        "colab": {
          "base_uri": "https://localhost:8080/",
          "height": 0
        },
        "id": "9aNOTgkcS4qY",
        "outputId": "06e45ab3-5838-49ac-d6d4-d78bf2d5981a"
      },
      "execution_count": 20,
      "outputs": [
        {
          "output_type": "stream",
          "name": "stdout",
          "text": [
            "12    6.6\n",
            "13    6.9\n",
            "14    6.9\n",
            "15    7.0\n",
            "16    7.1\n",
            "17    6.9\n",
            "18    7.0\n",
            "19    6.6\n",
            "20    6.7\n",
            "21    6.5\n",
            "Name:  TAUX, dtype: float64\n"
          ]
        }
      ]
    },
    {
      "cell_type": "code",
      "source": [
        "#Traçons dans le sous graphique les données de 1961\n",
        "fig, (ax1, ax2) = plt.subplots(2)\n",
        "fig.suptitle('Taux de chomage')\n",
        "ax1.plot(result12A,result12T)\n",
        "ax2.plot(valX,valY)"
      ],
      "metadata": {
        "colab": {
          "base_uri": "https://localhost:8080/",
          "height": 312
        },
        "id": "qiqG_0BLTYYI",
        "outputId": "8a77880c-927c-4adf-ef88-d5614aa5610d"
      },
      "execution_count": 25,
      "outputs": [
        {
          "output_type": "execute_result",
          "data": {
            "text/plain": [
              "[<matplotlib.lines.Line2D at 0x7f09d3e07ed0>]"
            ]
          },
          "metadata": {},
          "execution_count": 25
        },
        {
          "output_type": "display_data",
          "data": {
            "text/plain": [
              "<Figure size 432x288 with 2 Axes>"
            ],
            "image/png": "[encoded data removed]"
          },
          "metadata": {
            "needs_background": "light"
          }
        }
      ]
    },
    {
      "cell_type": "markdown",
      "source": [
        "**Ajoutons une largeur de 15 et une hauteur de 8**"
      ],
      "metadata": {
        "id": "3yC5JesyybLx"
      }
    },
    {
      "cell_type": "code",
      "source": [
        "#Ajoutons des titres pour chacun des graphiques\n",
        "fig, (ax1, ax2) = plt.subplots(2,figsize=(15, 8))\n",
        "ax1.plot(result12A,result12T)\n",
        "ax2.plot(valX,valY)\n",
        "ax2.set_title('taux de chômage en 1961')\n",
        "ax1.set_title('taux de chômage en 1960')"
      ],
      "metadata": {
        "colab": {
          "base_uri": "https://localhost:8080/",
          "height": 517
        },
        "id": "MuaVqa9mXUJt",
        "outputId": "dd0259cd-7920-420b-f8ef-f81229ffe726"
      },
      "execution_count": 26,
      "outputs": [
        {
          "output_type": "execute_result",
          "data": {
            "text/plain": [
              "Text(0.5, 1.0, 'taux de chômage en 1960')"
            ]
          },
          "metadata": {},
          "execution_count": 26
        },
        {
          "output_type": "display_data",
          "data": {
            "text/plain": [
              "<Figure size 1080x576 with 2 Axes>"
            ],
            "image/png": "[encoded data removed]"
          },
          "metadata": {
            "needs_background": "light"
          }
        }
      ]
    },
    {
      "cell_type": "markdown",
      "source": [
        "**Objectif de cette exercices**\n",
        "\n",
        "Cette exercice nous a permi de visualiser le taux de chomage en fonctions des années et de tracer leur graphiques"
      ],
      "metadata": {
        "id": "5ESFokyTYF2H"
      }
    },
    {
      "cell_type": "code",
      "source": [
        "#Définir la zone d'affichage à 6 pouce de large et 3 pouce de haut\n",
        "fig, (ax1, ax2) = plt.subplots(2,figsize=(6, 3))\n",
        "ax1.plot(result12A,result12T)\n",
        "ax2.plot(valX,valY)\n",
        "ax2.set_title('taux de chômage en 1961')\n",
        "ax1.set_title('taux de chômage en 1960')"
      ],
      "metadata": {
        "id": "G8yP94cmwPq6",
        "colab": {
          "base_uri": "https://localhost:8080/",
          "height": 245
        },
        "outputId": "a619dcca-0ca7-4554-8fac-b1d7450815d5"
      },
      "execution_count": 21,
      "outputs": [
        {
          "output_type": "execute_result",
          "data": {
            "text/plain": [
              "Text(0.5, 1.0, 'taux de chômage en 1960')"
            ]
          },
          "metadata": {},
          "execution_count": 21
        },
        {
          "output_type": "display_data",
          "data": {
            "text/plain": [
              "<Figure size 432x216 with 2 Axes>"
            ],
            "image/png": "[encoded data removed]"
          },
          "metadata": {
            "needs_background": "light"
          }
        }
      ]
    },
    {
      "cell_type": "markdown",
      "source": [
        "Générons deux courbes dans un seul graphique "
      ],
      "metadata": {
        "id": "A-sqbx8N0VMW"
      }
    },
    {
      "cell_type": "code",
      "source": [
        "#Traçons les courbes 1961 et 1960 dans un seul graphique\n",
        "plt.subplots(1,figsize=(6, 3))\n",
        "plt.plot(result12A, result12T,color='red')\n",
        "plt.plot(valX, valY, color='blue')\n",
        "plt.xlabel('Mois')\n",
        "plt.ylabel('Taux de chômage %')"
      ],
      "metadata": {
        "colab": {
          "base_uri": "https://localhost:8080/",
          "height": 243
        },
        "id": "yTxuJ11fT1L3",
        "outputId": "582b14a8-9bcb-43dd-e871-9c581e79b0fe"
      },
      "execution_count": 22,
      "outputs": [
        {
          "output_type": "execute_result",
          "data": {
            "text/plain": [
              "Text(0, 0.5, 'Taux de chômage %')"
            ]
          },
          "metadata": {},
          "execution_count": 22
        },
        {
          "output_type": "display_data",
          "data": {
            "text/plain": [
              "<Figure size 432x216 with 1 Axes>"
            ],
            "image/png": "[encoded data removed]"
          },
          "metadata": {
            "needs_background": "light"
          }
        }
      ]
    },
    {
      "cell_type": "markdown",
      "source": [
        "Récuperer les données de 1962 1963 et 1964"
      ],
      "metadata": {
        "id": "7Q_1m_fR1Hyq"
      }
    },
    {
      "cell_type": "code",
      "source": [
        "#Récuperer les données de 1962\n",
        "result1962 = sengo[sengo.AN == 1962]\n",
        "print(result1962)\n"
      ],
      "metadata": {
        "colab": {
          "base_uri": "https://localhost:8080/",
          "height": 0
        },
        "id": "_mqSkD6BYy9J",
        "outputId": "5df3cf8b-0d55-408c-b9f3-13ac8c91e80c"
      },
      "execution_count": 23,
      "outputs": [
        {
          "output_type": "stream",
          "name": "stdout",
          "text": [
            "      AN   TAUX\n",
            "24  1962    5.8\n",
            "25  1962    5.5\n",
            "26  1962    5.6\n",
            "27  1962    5.6\n",
            "28  1962    5.5\n",
            "29  1962    5.5\n",
            "30  1962    5.4\n",
            "31  1962    5.7\n",
            "32  1962    5.6\n",
            "33  1962    5.4\n",
            "34  1962    5.7\n",
            "35  1962    5.5\n"
          ]
        }
      ]
    },
    {
      "cell_type": "code",
      "source": [
        "#Récuperer les données de 1963\n",
        "result1963 = sengo[sengo.AN == 1963]\n",
        "print(result1963)"
      ],
      "metadata": {
        "colab": {
          "base_uri": "https://localhost:8080/",
          "height": 0
        },
        "id": "PisvFTZiY_ba",
        "outputId": "728ae878-7bae-4497-cef8-65e7a8241b8b"
      },
      "execution_count": 24,
      "outputs": [
        {
          "output_type": "stream",
          "name": "stdout",
          "text": [
            "      AN   TAUX\n",
            "36  1963    5.7\n",
            "37  1963    5.9\n",
            "38  1963    5.7\n",
            "39  1963    5.7\n",
            "40  1963    5.9\n",
            "41  1963    5.6\n",
            "42  1963    5.6\n",
            "43  1963    5.4\n",
            "44  1963    5.5\n",
            "45  1963    5.5\n",
            "46  1963    5.7\n",
            "47  1963    5.5\n"
          ]
        }
      ]
    },
    {
      "cell_type": "code",
      "source": [
        "#Récuperer les données de 1964\n",
        "result1964 = sengo[sengo.AN == 1964]\n",
        "print(result1964)"
      ],
      "metadata": {
        "colab": {
          "base_uri": "https://localhost:8080/",
          "height": 0
        },
        "id": "6FPDXwo1Zo61",
        "outputId": "d6b722be-eb9a-4230-d30f-9151a3faa8b6"
      },
      "execution_count": 25,
      "outputs": [
        {
          "output_type": "stream",
          "name": "stdout",
          "text": [
            "      AN   TAUX\n",
            "48  1964    5.6\n",
            "49  1964    5.4\n",
            "50  1964    5.4\n",
            "51  1964    5.3\n",
            "52  1964    5.1\n",
            "53  1964    5.2\n",
            "54  1964    4.9\n",
            "55  1964    5.0\n",
            "56  1964    5.1\n",
            "57  1964    5.1\n",
            "58  1964    4.8\n",
            "59  1964    5.0\n"
          ]
        }
      ]
    },
    {
      "cell_type": "code",
      "source": [
        "#Récuperer les valeurs de la colonne AN et TAUX pour les années 1962,1963 et 1964\n",
        "plt.subplots(1,figsize=(10, 6))\n",
        "valeurX1962 = result1962['AN']\n",
        "valeurY1962 = result1962[' TAUX']\n",
        "valeurX1963 = result1963['AN']\n",
        "valeurY1963 = result1963[' TAUX']\n",
        "valeurX1964 = result1964['AN']\n",
        "valeurY1964 = result1964[' TAUX'] \n",
        "#Générer les courbes 1960, 1961, 1962, 1963 et 1964 avec leur couleur\n",
        "plt.plot(result12A, result12T,color='red')\n",
        "plt.plot(valX, valY, color='yellow')\n",
        "plt.plot(valeurX1962,valeurY1962, color ='blue')\n",
        "plt.plot(valeurX1963,valeurY1963, color ='green')\n",
        "plt.plot(valeurX1964,valeurY1964, color ='black')\n",
        "\n",
        "\n"
      ],
      "metadata": {
        "colab": {
          "base_uri": "https://localhost:8080/",
          "height": 392
        },
        "id": "6LhzeriyaKWW",
        "outputId": "90e7f8ab-867b-4267-a132-affdc4a35feb"
      },
      "execution_count": 26,
      "outputs": [
        {
          "output_type": "execute_result",
          "data": {
            "text/plain": [
              "[<matplotlib.lines.Line2D at 0x7f8c808d6050>]"
            ]
          },
          "metadata": {},
          "execution_count": 26
        },
        {
          "output_type": "display_data",
          "data": {
            "text/plain": [
              "<Figure size 720x432 with 1 Axes>"
            ],
            "image/png": "[encoded data removed]"
          },
          "metadata": {
            "needs_background": "light"
          }
        }
      ]
    },
    {
      "cell_type": "code",
      "source": [
        "plt.subplots(1,figsize=(10, 8))\n",
        "plt.plot(result12A, result12T,color='red', label='1960')\n",
        "plt.plot(valX, valY, color='yellow', label='1961')\n",
        "plt.plot(valeurX1962,valeurY1962, color ='blue', label='1962')\n",
        "plt.plot(valeurX1963,valeurY1963, color ='green',label='1963')\n",
        "plt.plot(valeurX1964,valeurY1964, color ='black',label = '1964')\n",
        "plt.legend(loc='upper left')"
      ],
      "metadata": {
        "colab": {
          "base_uri": "https://localhost:8080/",
          "height": 501
        },
        "id": "RQSQIMmyuiPl",
        "outputId": "67195044-a7f6-47f1-de7e-ed0ec823fd1d"
      },
      "execution_count": 27,
      "outputs": [
        {
          "output_type": "execute_result",
          "data": {
            "text/plain": [
              "<matplotlib.legend.Legend at 0x7f8c80908850>"
            ]
          },
          "metadata": {},
          "execution_count": 27
        },
        {
          "output_type": "display_data",
          "data": {
            "text/plain": [
              "<Figure size 720x576 with 1 Axes>"
            ],
            "image/png": "[encoded data removed]"
          },
          "metadata": {
            "needs_background": "light"
          }
        }
      ]
    },
    {
      "cell_type": "code",
      "source": [
        "plt.subplots(1,figsize=(10, 8))\n",
        "plt.plot(result12A, result12T,color='red', label='1960')\n",
        "plt.plot(valX, valY, color='yellow', label='1961')\n",
        "plt.plot(valeurX1962,valeurY1962, color ='blue', label='1962')\n",
        "plt.plot(valeurX1963,valeurY1963, color ='green',label='1963')\n",
        "plt.plot(valeurX1964,valeurY1964, color ='black',label = '1964')\n",
        "plt.legend(loc='upper left')\n",
        "plt.xlabel('Mois (de 1 à 12)')\n",
        "plt.ylabel('Taux de chômage %')\n",
        "plt.title(' Evolution du taux de chômage de 1960 à 1964')"
      ],
      "metadata": {
        "colab": {
          "base_uri": "https://localhost:8080/",
          "height": 531
        },
        "id": "ZSjydvW1u_SK",
        "outputId": "dc8f13d8-8367-4c88-f110-d59a9f6fdd0c"
      },
      "execution_count": 28,
      "outputs": [
        {
          "output_type": "execute_result",
          "data": {
            "text/plain": [
              "Text(0.5, 1.0, ' Evolution du taux de chômage de 1960 à 1964')"
            ]
          },
          "metadata": {},
          "execution_count": 28
        },
        {
          "output_type": "display_data",
          "data": {
            "text/plain": [
              "<Figure size 720x576 with 1 Axes>"
            ],
            "image/png": "[encoded data removed]"
          },
          "metadata": {
            "needs_background": "light"
          }
        }
      ]
    }
  ]
}